{
 "cells": [
  {
   "cell_type": "code",
   "execution_count": 1,
   "id": "8dbf2fca",
   "metadata": {},
   "outputs": [],
   "source": [
    "import requests\n",
    "from bs4 import BeautifulSoup\n",
    "import pandas as pd\n",
    "import numpy as np\n",
    "import time"
   ]
  },
  {
   "cell_type": "code",
   "execution_count": 2,
   "id": "45871585",
   "metadata": {},
   "outputs": [],
   "source": [
    "source_url = 'https://www.novelupdates.com/series-ranking/?rank=popular&pg=1'\n",
    "#search \"my user agent\" in Google paste below\n",
    "user_agent = {'User-Agent':''}\n",
    "response = requests.get(source_url,headers=user_agent)\n",
    "soup = BeautifulSoup(response.content,'html.parser')"
   ]
  },
  {
   "cell_type": "code",
   "execution_count": 9,
   "id": "368b99ad",
   "metadata": {},
   "outputs": [],
   "source": [
    "all_links = []\n",
    "for i in range(1,42):\n",
    "    source_url = f'https://www.novelupdates.com/series-ranking/?rank=popular&pg={i}'\n",
    "    #search \"my user agent\" in Google paste below\n",
    "    user_agent = {'User-Agent':''}\n",
    "    response = requests.get(source_url,headers=user_agent)\n",
    "    soup = BeautifulSoup(response.content,'html.parser')\n",
    "    novels = soup.find_all('div', class_=\"search_main_box_nu\")\n",
    "    links = [n.a.get(\"href\") for n in novels]\n",
    "    all_links.extend(links)"
   ]
  },
  {
   "cell_type": "code",
   "execution_count": 10,
   "id": "7f47857c",
   "metadata": {},
   "outputs": [
    {
     "name": "stdout",
     "output_type": "stream",
     "text": [
      "                             Title       User Name  Rating\n",
      "0      Trash of the Count’s Family        Ztarfish       0\n",
      "1      Trash of the Count’s Family            Len_       5\n",
      "2      Trash of the Count’s Family           Nocta       5\n",
      "3      Trash of the Count’s Family            Jass       2\n",
      "4      Trash of the Count’s Family     sesamechikn       5\n",
      "...                            ...             ...     ...\n",
      "93519    Jiang Hu’s Road is Curved   yourstrulylen       0\n",
      "93520    Jiang Hu’s Road is Curved  miaomiaomiao28       0\n",
      "93521    Jiang Hu’s Road is Curved          Kubera       5\n",
      "93522    Jiang Hu’s Road is Curved         lourdes       5\n",
      "93523    Jiang Hu’s Road is Curved           Uhoh_       5\n",
      "\n",
      "[93524 rows x 3 columns]\n"
     ]
    }
   ],
   "source": [
    "novel_review =[]\n",
    "batch_size = 30\n",
    "for batch_start in range(0, len(all_links), batch_size):\n",
    "    batch_links = all_links[batch_start:batch_start + batch_size]\n",
    "\n",
    "\n",
    "    for l in batch_links:\n",
    "        try:\n",
    "            #search \"my user agent\" in Google paste below\n",
    "            user_agent = {'User-Agent':''}\n",
    "            page_number = 1\n",
    "            while True:\n",
    "                com = f'comment-page-{page_number}/#comments'\n",
    "                com_links = f\"{l}{com}\"\n",
    "                response = requests.get(com_links,headers=user_agent)\n",
    "                new_soup = BeautifulSoup(response.content,'html.parser')\n",
    "                title = new_soup.find('div',class_=\"seriestitlenu\").text\n",
    "                user_name = new_soup.find_all('a',id=\"revname\")\n",
    "                user_names = [u.text for u in user_name]\n",
    "                user_rating_tags = new_soup.find_all('div', class_='w-comments-item')\n",
    "                user_ratings = [len(ur.find_all('i', class_='fa fa-star')) for ur in user_rating_tags]\n",
    "\n",
    "                for username, rating in zip(user_names, user_ratings):\n",
    "                    novel_review.append((title, username, rating))\n",
    "                \n",
    "                next_page = new_soup.find('a', class_='next page-numbers')\n",
    "                if next_page:\n",
    "                    page_number += 1\n",
    "                    time.sleep(1)\n",
    "                else:\n",
    "                    break\n",
    "                \n",
    "            \n",
    "        except (requests.exceptions.RequestException, AttributeError) as e:\n",
    "            print(f\"An error occurred for {l}: {e}\")\n",
    "            continue\n",
    "        \n",
    "df = pd.DataFrame(novel_review, columns=['Title', 'User Name','Rating'])\n",
    "print(df)\n"
   ]
  },
  {
   "cell_type": "code",
   "execution_count": 7,
   "id": "d9c7f7a1",
   "metadata": {},
   "outputs": [
    {
     "data": {
      "text/plain": [
       "<bound method NDFrame.head of                              Title       User Name  Rating\n",
       "0      Trash of the Count’s Family        Ztarfish       0\n",
       "1      Trash of the Count’s Family            Len_       5\n",
       "2      Trash of the Count’s Family           Nocta       5\n",
       "3      Trash of the Count’s Family            Jass       2\n",
       "4      Trash of the Count’s Family     sesamechikn       5\n",
       "...                            ...             ...     ...\n",
       "13589             I am the Monarch         Renaxan       4\n",
       "13590             I am the Monarch  KirbyReviews44       5\n",
       "13591             I am the Monarch  PringleStorian       4\n",
       "13592             I am the Monarch        LeakLeaf       5\n",
       "13593             I am the Monarch        donzel00       4\n",
       "\n",
       "[13594 rows x 3 columns]>"
      ]
     },
     "execution_count": 7,
     "metadata": {},
     "output_type": "execute_result"
    }
   ],
   "source": [
    "df.head"
   ]
  },
  {
   "cell_type": "code",
   "execution_count": 11,
   "id": "b69c9849",
   "metadata": {},
   "outputs": [],
   "source": [
    "df.to_csv(\"novel_rating\")"
   ]
  },
  {
   "cell_type": "code",
   "execution_count": null,
   "id": "eb244db8",
   "metadata": {},
   "outputs": [],
   "source": []
  }
 ],
 "metadata": {
  "kernelspec": {
   "display_name": "Python 3 (ipykernel)",
   "language": "python",
   "name": "python3"
  },
  "language_info": {
   "codemirror_mode": {
    "name": "ipython",
    "version": 3
   },
   "file_extension": ".py",
   "mimetype": "text/x-python",
   "name": "python",
   "nbconvert_exporter": "python",
   "pygments_lexer": "ipython3",
   "version": "3.10.9"
  }
 },
 "nbformat": 4,
 "nbformat_minor": 5
}
