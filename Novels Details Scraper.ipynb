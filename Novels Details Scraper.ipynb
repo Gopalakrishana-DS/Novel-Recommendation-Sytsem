{
 "cells": [
  {
   "cell_type": "code",
   "execution_count": 1,
   "id": "d5948104",
   "metadata": {},
   "outputs": [],
   "source": [
    "import requests\n",
    "from bs4 import BeautifulSoup\n",
    "import pandas as pd\n",
    "import numpy as np\n",
    "import time"
   ]
  },
  {
   "cell_type": "code",
   "execution_count": 2,
   "id": "95d07775",
   "metadata": {},
   "outputs": [],
   "source": [
    "source_url = 'https://www.novelupdates.com/series-ranking/?rank=popular&pg=1'\n",
    "#search \"my user agent\" in Google paste below\n",
    "user_agent = {'User-Agent':''}\n",
    "response = requests.get(source_url,headers=user_agent)\n",
    "soup = BeautifulSoup(response.content,'html.parser')"
   ]
  },
  {
   "cell_type": "code",
   "execution_count": 3,
   "id": "04e2d80a",
   "metadata": {},
   "outputs": [],
   "source": [
    "all_links = []\n",
    "for i in range(1,42):\n",
    "    source_url = f'https://www.novelupdates.com/series-ranking/?rank=popular&pg={i}'\n",
    "    #search \"my user agent\" in Google paste below\n",
    "    user_agent = {''}\n",
    "    response = requests.get(source_url,headers=user_agent)\n",
    "    soup = BeautifulSoup(response.content,'html.parser')\n",
    "    novels = soup.find_all('div', class_=\"search_main_box_nu\")\n",
    "    links = [n.a.get(\"href\") for n in novels]\n",
    "    all_links.extend(links)\n",
    "    "
   ]
  },
  {
   "cell_type": "code",
   "execution_count": 5,
   "id": "a5d89e46",
   "metadata": {},
   "outputs": [],
   "source": [
    "novel =[]\n",
    "for l in all_links:\n",
    "    #search \"my user agent\" in Google paste below\n",
    "    user_agent = {'User-Agent':''}\n",
    "    try:\n",
    "        new_response = requests.get(l,headers=user_agent)\n",
    "        new_soup = BeautifulSoup(new_response.text,'html.parser')\n",
    "        title = new_soup.find('div',class_=\"seriestitlenu\").text\n",
    "        genre = new_soup.find('div',id=\"seriesgenre\").text.replace(' ',' , ').replace('\\n','')\n",
    "        rating = new_soup.find('span',class_=\"uvotes\").text\n",
    "        author = new_soup.find('a',id=\"authtag\").text\n",
    "        published_year = new_soup.find('div',id=\"edityear\").text.replace('\\n','')\n",
    "\n",
    "        novel.append({\n",
    "            'Title': title,\n",
    "            'Genre': genre,\n",
    "            'Rating': rating,\n",
    "            'Author': author,\n",
    "            'Published Year': published_year\n",
    "        })\n",
    "        time.sleep(1)\n",
    "    \n",
    "    except (requests.exceptions.RequestException, AttributeError) as e:\n",
    "        print(f\"An error occurred for {l}: {e}\")\n",
    "        continue\n",
    "    \n",
    "    "
   ]
  },
  {
   "cell_type": "code",
   "execution_count": 6,
   "id": "a8a2d321",
   "metadata": {},
   "outputs": [],
   "source": [
    "data = pd.DataFrame(novel)\n",
    "data.to_csv(\"novels\")"
   ]
  },
  {
   "cell_type": "code",
   "execution_count": null,
   "id": "337ce517",
   "metadata": {},
   "outputs": [],
   "source": []
  },
  {
   "cell_type": "code",
   "execution_count": 31,
   "id": "90865bb9",
   "metadata": {},
   "outputs": [],
   "source": []
  },
  {
   "cell_type": "code",
   "execution_count": null,
   "id": "f4f22d75",
   "metadata": {},
   "outputs": [],
   "source": []
  },
  {
   "cell_type": "code",
   "execution_count": null,
   "id": "025e9d60",
   "metadata": {},
   "outputs": [],
   "source": []
  }
 ],
 "metadata": {
  "kernelspec": {
   "display_name": "Python 3 (ipykernel)",
   "language": "python",
   "name": "python3"
  },
  "language_info": {
   "codemirror_mode": {
    "name": "ipython",
    "version": 3
   },
   "file_extension": ".py",
   "mimetype": "text/x-python",
   "name": "python",
   "nbconvert_exporter": "python",
   "pygments_lexer": "ipython3",
   "version": "3.10.9"
  }
 },
 "nbformat": 4,
 "nbformat_minor": 5
}
